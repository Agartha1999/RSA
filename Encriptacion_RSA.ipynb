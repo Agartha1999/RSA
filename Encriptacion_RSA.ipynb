{
  "nbformat": 4,
  "nbformat_minor": 0,
  "metadata": {
    "colab": {
      "provenance": []
    },
    "kernelspec": {
      "name": "python3",
      "display_name": "Python 3"
    },
    "language_info": {
      "name": "python"
    }
  },
  "cells": [
    {
      "cell_type": "markdown",
      "source": [
        "#Computación Cuantica"
      ],
      "metadata": {
        "id": "Uf-dskXRpgKW"
      }
    },
    {
      "cell_type": "markdown",
      "source": [
        "#Integrantes"
      ],
      "metadata": {
        "id": "xmd6bEeSrLdY"
      }
    },
    {
      "cell_type": "markdown",
      "source": [
        "Arana Flores Shaiel Almendra\n",
        "\n",
        "Huerta Medina Vito Jhon\n",
        "\n",
        "Lima Esperilla Katerine Candy\n",
        "\n",
        "Mamani Meza Johana Maria\n",
        "\n",
        "Poma Supo Juan Gabriel"
      ],
      "metadata": {
        "id": "FntVleo4rPS9"
      }
    },
    {
      "cell_type": "markdown",
      "source": [
        "#Importar Libreria"
      ],
      "metadata": {
        "id": "aAIFzQ7TpbCq"
      }
    },
    {
      "cell_type": "code",
      "source": [
        "!pip install pycryptodome # Install the pycryptodome module, which provides cryptography functionalities.\n",
        "from Crypto.Util import number # Import the 'number' module from the 'Crypto.Util' package."
      ],
      "metadata": {
        "colab": {
          "base_uri": "https://localhost:8080/"
        },
        "id": "ekCCiZ13pbWA",
        "outputId": "444f5daa-fbc2-4d3a-f7bb-4efc8e38d5b0"
      },
      "execution_count": 1,
      "outputs": [
        {
          "output_type": "stream",
          "name": "stdout",
          "text": [
            "Collecting pycryptodome\n",
            "  Downloading pycryptodome-3.20.0-cp35-abi3-manylinux_2_17_x86_64.manylinux2014_x86_64.whl (2.1 MB)\n",
            "\u001b[?25l     \u001b[90m━━━━━━━━━━━━━━━━━━━━━━━━━━━━━━━━━━━━━━━━\u001b[0m \u001b[32m0.0/2.1 MB\u001b[0m \u001b[31m?\u001b[0m eta \u001b[36m-:--:--\u001b[0m\r\u001b[2K     \u001b[91m╸\u001b[0m\u001b[90m━━━━━━━━━━━━━━━━━━━━━━━━━━━━━━━━━━━━━━━\u001b[0m \u001b[32m0.0/2.1 MB\u001b[0m \u001b[31m1.4 MB/s\u001b[0m eta \u001b[36m0:00:02\u001b[0m\r\u001b[2K     \u001b[91m━━━━━━━\u001b[0m\u001b[91m╸\u001b[0m\u001b[90m━━━━━━━━━━━━━━━━━━━━━━━━━━━━━━━━\u001b[0m \u001b[32m0.4/2.1 MB\u001b[0m \u001b[31m6.7 MB/s\u001b[0m eta \u001b[36m0:00:01\u001b[0m\r\u001b[2K     \u001b[91m━━━━━━━━━━━━━━━━━━━━━━━━━━━━━━━━━━━━━━━\u001b[0m\u001b[91m╸\u001b[0m \u001b[32m2.1/2.1 MB\u001b[0m \u001b[31m22.8 MB/s\u001b[0m eta \u001b[36m0:00:01\u001b[0m\r\u001b[2K     \u001b[90m━━━━━━━━━━━━━━━━━━━━━━━━━━━━━━━━━━━━━━━━\u001b[0m \u001b[32m2.1/2.1 MB\u001b[0m \u001b[31m16.3 MB/s\u001b[0m eta \u001b[36m0:00:00\u001b[0m\n",
            "\u001b[?25hInstalling collected packages: pycryptodome\n",
            "Successfully installed pycryptodome-3.20.0\n"
          ]
        }
      ]
    },
    {
      "cell_type": "markdown",
      "source": [
        "#Funciónes, para la encriptación"
      ],
      "metadata": {
        "id": "2EhhPOUSp5yW"
      }
    },
    {
      "cell_type": "markdown",
      "source": [
        "#Primera prueba"
      ],
      "metadata": {
        "id": "h--icepnqQ_n"
      }
    },
    {
      "cell_type": "code",
      "source": [
        "from Crypto.Util import number\n",
        "\n",
        "def generate_key_pair(bits=50):\n",
        "    # Generar dos números primos p y q de 'bits' bits cada uno\n",
        "    p = number.getPrime(bits)\n",
        "    q = number.getPrime(bits)\n",
        "\n",
        "    # Calcular n como el producto de p y q\n",
        "    n = p * q\n",
        "\n",
        "    # Calcular phi(n) como (p-1)*(q-1)\n",
        "    phi = (p - 1) * (q - 1)\n",
        "\n",
        "    # Elegir un exponente público e comúnmente utilizado\n",
        "    e = 65537  # Elección común para e\n",
        "\n",
        "    # Calcular el exponente privado d como el inverso modular de e mod phi\n",
        "    d = number.inverse(e, phi)\n",
        "\n",
        "    # Devolver la clave pública (e, n) y la clave privada (d, n)\n",
        "    return ((e, n), (d, n))\n",
        "\n",
        "def encrypt(public_key, plaintext):\n",
        "    # Desempaquetar la clave pública en e y n\n",
        "    e, n = public_key\n",
        "\n",
        "    # Convertir el texto plano a bytes usando UTF-8\n",
        "    plaintext_bytes = plaintext.encode('utf-8')\n",
        "\n",
        "    # Convertir los bytes del texto plano a un número entero\n",
        "    plaintext_int = int.from_bytes(plaintext_bytes, byteorder='big')\n",
        "\n",
        "    # Cifrar el texto plano elevándolo a la potencia de e y tomando el módulo n\n",
        "    ciphertext_int = pow(plaintext_int, e, n)\n",
        "\n",
        "    # Devolver el texto cifrado como un número entero\n",
        "    return ciphertext_int\n",
        "\n",
        "def decrypt(private_key, ciphertext):\n",
        "    # Desempaquetar la clave privada en d y n\n",
        "    d, n = private_key\n",
        "\n",
        "    # Descifrar el texto cifrado elevándolo a la potencia de d y tomando el módulo n\n",
        "    plaintext_int = pow(ciphertext, d, n)\n",
        "\n",
        "    # Convertir el número entero descifrado de vuelta a bytes\n",
        "    plaintext_bytes = plaintext_int.to_bytes((plaintext_int.bit_length() + 7) // 8, byteorder='big')\n",
        "\n",
        "    try:\n",
        "        # Intentar decodificar los bytes como UTF-8 y devolver el texto plano\n",
        "        return plaintext_bytes.decode('utf-8')\n",
        "    except UnicodeDecodeError:\n",
        "        # Si falla la decodificación, devolver los bytes crudos\n",
        "        return plaintext_bytes\n",
        "\n",
        "# Generar un par de claves pública y privada\n",
        "public_key, private_key = generate_key_pair()\n",
        "print(\"Public Key:\", public_key)\n",
        "print(\"Private Key:\", private_key)\n",
        "\n",
        "# Texto plano a cifrar\n",
        "plaintext = \"hola mundo!\"  # El número de bits debe ser len(plaintext) * 4\n",
        "\n",
        "# Cifrar el texto plano usando la clave pública\n",
        "ciphertext = encrypt(public_key, plaintext)\n",
        "print(\"Ciphertext:\", ciphertext)\n",
        "\n",
        "# Descifrar el texto cifrado usando la clave privada\n",
        "decrypted_text = decrypt(private_key, ciphertext)\n",
        "print(\"Decrypted Plaintext:\", decrypted_text)\n"
      ],
      "metadata": {
        "colab": {
          "base_uri": "https://localhost:8080/"
        },
        "id": "eKyBEuClie10",
        "outputId": "f91569a1-8b51-49cf-9164-0d0064a3c8b5"
      },
      "execution_count": 2,
      "outputs": [
        {
          "output_type": "stream",
          "name": "stdout",
          "text": [
            "Public Key: (65537, 717587300978524582484340201991)\n",
            "Private Key: (271105811560312901156830145473, 717587300978524582484340201991)\n",
            "Ciphertext: 90477711876842139487819720796\n",
            "Decrypted Plaintext: hola mundo!\n"
          ]
        }
      ]
    },
    {
      "cell_type": "markdown",
      "source": [
        "#Segunda Prueba"
      ],
      "metadata": {
        "id": "-3XNM1vupXnT"
      }
    },
    {
      "cell_type": "code",
      "source": [
        "from Crypto.Util import number\n",
        "\n",
        "def generate_key_pair(bits=100):\n",
        "    # Generar dos números primos p y q de 'bits' bits cada uno\n",
        "    p = number.getPrime(bits)\n",
        "    q = number.getPrime(bits)\n",
        "\n",
        "    # Calcular n como el producto de p y q\n",
        "    n = p * q\n",
        "\n",
        "    # Calcular phi(n) como (p-1)*(q-1)\n",
        "    phi = (p - 1) * (q - 1)\n",
        "\n",
        "    # Elegir un exponente público e comúnmente utilizado\n",
        "    e = 65537  # Elección común para e\n",
        "\n",
        "    # Calcular el exponente privado d como el inverso modular de e mod phi\n",
        "    d = number.inverse(e, phi)\n",
        "\n",
        "    # Devolver la clave pública (e, n) y la clave privada (d, n)\n",
        "    return ((e, n), (d, n))\n",
        "\n",
        "def encrypt(public_key, plaintext):\n",
        "    # Desempaquetar la clave pública en e y n\n",
        "    e, n = public_key\n",
        "\n",
        "    # Convertir el texto plano a bytes usando UTF-8\n",
        "    plaintext_bytes = plaintext.encode('utf-8')\n",
        "\n",
        "    # Convertir los bytes del texto plano a un número entero\n",
        "    plaintext_int = int.from_bytes(plaintext_bytes, byteorder='big')\n",
        "\n",
        "    # Cifrar el texto plano elevándolo a la potencia de e y tomando el módulo n\n",
        "    ciphertext_int = pow(plaintext_int, e, n)\n",
        "\n",
        "    # Devolver el texto cifrado como un número entero\n",
        "    return ciphertext_int\n",
        "\n",
        "def decrypt(private_key, ciphertext):\n",
        "    # Desempaquetar la clave privada en d y n\n",
        "    d, n = private_key\n",
        "\n",
        "    # Descifrar el texto cifrado elevándolo a la potencia de d y tomando el módulo n\n",
        "    plaintext_int = pow(ciphertext, d, n)\n",
        "\n",
        "    # Convertir el número entero descifrado de vuelta a bytes\n",
        "    plaintext_bytes = plaintext_int.to_bytes((plaintext_int.bit_length() + 7) // 8, byteorder='big')\n",
        "\n",
        "    try:\n",
        "        # Intentar decodificar los bytes como UTF-8 y devolver el texto plano\n",
        "        return plaintext_bytes.decode('utf-8')\n",
        "    except UnicodeDecodeError:\n",
        "        # Si falla la decodificación, devolver los bytes crudos\n",
        "        return plaintext_bytes\n",
        "\n",
        "# Generar un par de claves pública y privada\n",
        "public_key, private_key = generate_key_pair()\n",
        "print(\"Public Key:\", public_key)\n",
        "print(\"Private Key:\", private_key)\n",
        "\n",
        "# Texto plano a cifrar\n",
        "plaintext = \"hola mundo!\"  # El número de bits debe ser len(plaintext) * 4\n",
        "\n",
        "# Cifrar el texto plano usando la clave pública\n",
        "ciphertext = encrypt(public_key, plaintext)\n",
        "print(\"Ciphertext:\", ciphertext)\n",
        "\n",
        "# Descifrar el texto cifrado usando la clave privada\n",
        "decrypted_text = decrypt(private_key, ciphertext)\n",
        "print(\"Decrypted Plaintext:\", decrypted_text)"
      ],
      "metadata": {
        "colab": {
          "base_uri": "https://localhost:8080/"
        },
        "id": "ggFXZqgWihq0",
        "outputId": "c6b990f9-3633-4a55-d079-e42eb5592a51"
      },
      "execution_count": 3,
      "outputs": [
        {
          "output_type": "stream",
          "name": "stdout",
          "text": [
            "Public Key: (65537, 770560826189821954020982564125484209820473829257715721543779)\n",
            "Private Key: (673430915068560389375555752365039309165805075784328860523713, 770560826189821954020982564125484209820473829257715721543779)\n",
            "Ciphertext: 5110737062223517584257274699717426750992976017499380373905\n",
            "Decrypted Plaintext: hola mundo!\n"
          ]
        }
      ]
    },
    {
      "cell_type": "markdown",
      "source": [
        "#Tercera Prueba"
      ],
      "metadata": {
        "id": "_EYbE7FuqYVu"
      }
    },
    {
      "cell_type": "code",
      "source": [
        "from Crypto.Util import number\n",
        "\n",
        "def generate_key_pair(bits=1000):\n",
        "    # Generar dos números primos p y q de 'bits' bits cada uno\n",
        "    p = number.getPrime(bits)\n",
        "    q = number.getPrime(bits)\n",
        "\n",
        "    # Calcular n como el producto de p y q\n",
        "    n = p * q\n",
        "\n",
        "    # Calcular phi(n) como (p-1)*(q-1)\n",
        "    phi = (p - 1) * (q - 1)\n",
        "\n",
        "    # Elegir un exponente público e comúnmente utilizado\n",
        "    e = 65537  # Elección común para e\n",
        "\n",
        "    # Calcular el exponente privado d como el inverso modular de e mod phi\n",
        "    d = number.inverse(e, phi)\n",
        "\n",
        "    # Devolver la clave pública (e, n) y la clave privada (d, n)\n",
        "    return ((e, n), (d, n))\n",
        "\n",
        "def encrypt(public_key, plaintext):\n",
        "    # Desempaquetar la clave pública en e y n\n",
        "    e, n = public_key\n",
        "\n",
        "    # Convertir el texto plano a bytes usando UTF-8\n",
        "    plaintext_bytes = plaintext.encode('utf-8')\n",
        "\n",
        "    # Convertir los bytes del texto plano a un número entero\n",
        "    plaintext_int = int.from_bytes(plaintext_bytes, byteorder='big')\n",
        "\n",
        "    # Cifrar el texto plano elevándolo a la potencia de e y tomando el módulo n\n",
        "    ciphertext_int = pow(plaintext_int, e, n)\n",
        "\n",
        "    # Devolver el texto cifrado como un número entero\n",
        "    return ciphertext_int\n",
        "\n",
        "def decrypt(private_key, ciphertext):\n",
        "    # Desempaquetar la clave privada en d y n\n",
        "    d, n = private_key\n",
        "\n",
        "    # Descifrar el texto cifrado elevándolo a la potencia de d y tomando el módulo n\n",
        "    plaintext_int = pow(ciphertext, d, n)\n",
        "\n",
        "    # Convertir el número entero descifrado de vuelta a bytes\n",
        "    plaintext_bytes = plaintext_int.to_bytes((plaintext_int.bit_length() + 7) // 8, byteorder='big')\n",
        "\n",
        "    try:\n",
        "        # Intentar decodificar los bytes como UTF-8 y devolver el texto plano\n",
        "        return plaintext_bytes.decode('utf-8')\n",
        "    except UnicodeDecodeError:\n",
        "        # Si falla la decodificación, devolver los bytes crudos\n",
        "        return plaintext_bytes\n",
        "\n",
        "# Generar un par de claves pública y privada\n",
        "public_key, private_key = generate_key_pair()\n",
        "print(\"Public Key:\", public_key)\n",
        "print(\"Private Key:\", private_key)\n",
        "\n",
        "# Texto plano a cifrar\n",
        "plaintext = \"hola mundo!\"  # El número de bits debe ser len(plaintext) * 4\n",
        "\n",
        "# Cifrar el texto plano usando la clave pública\n",
        "ciphertext = encrypt(public_key, plaintext)\n",
        "print(\"Ciphertext:\", ciphertext)\n",
        "\n",
        "# Descifrar el texto cifrado usando la clave privada\n",
        "decrypted_text = decrypt(private_key, ciphertext)\n",
        "print(\"Decrypted Plaintext:\", decrypted_text)"
      ],
      "metadata": {
        "colab": {
          "base_uri": "https://localhost:8080/"
        },
        "id": "pl2Rj2JCijPq",
        "outputId": "3cba33f0-b42c-4360-8ed1-128da923de17"
      },
      "execution_count": 4,
      "outputs": [
        {
          "output_type": "stream",
          "name": "stdout",
          "text": [
            "Public Key: (65537, 55364314791619247025127251951519355506637342169064689452053598246786755241906041981469275117122960665671900939729697128274480905910774716844253376212276731106037950252064243094099187845313685847115444792375049544110760126947880745646138754513421698603603524320951957398805337283493620282532808654443309248556635804955297181909570990159026151529248075330604579638320412801940003984604484818330330659229430528870587989645694362579124290391296993811932878833090742951794742151234304409420367096635937932455303613439110991428024766253792304173495888479691074519259191909738390096378612212954626225961065023)\n",
            "Private Key: (27451954979148558086707282594817781963527275754549737528936840694990347412011211075115210708546740464038239360017337349595000252048103135611499728602074319148294997198392963418921330061206853156047171734638747730067339992451566789912826723326794810836973009541688737776089510358490756133194777759659265615578466158918104626140293953721673437702513127962826462954699145158508870678171056801241622765578261336418196286743901017791129157306881777354456693224379603687306949737506622929651947878956776278565091691344451161414012320318667796936136506300674517258725819854831590147529477782460505066975159937, 55364314791619247025127251951519355506637342169064689452053598246786755241906041981469275117122960665671900939729697128274480905910774716844253376212276731106037950252064243094099187845313685847115444792375049544110760126947880745646138754513421698603603524320951957398805337283493620282532808654443309248556635804955297181909570990159026151529248075330604579638320412801940003984604484818330330659229430528870587989645694362579124290391296993811932878833090742951794742151234304409420367096635937932455303613439110991428024766253792304173495888479691074519259191909738390096378612212954626225961065023)\n",
            "Ciphertext: 20520544238604027856748110819721524748198296711409109440067237176728128702034811192285385740932456331821942099040771358699950448908334317917460537486476387608593009983518762117919316505736919717236546921038850127672703772011095939844421431753348271523441748438564519600689380099309879903444389027310983557266384019450816603388597965911319669265303140002037333770342305914524516463548447199740215529707063575789959468021338418177147286541490430448489316352586081286202959163209460179903058196014760272922915070932268838469028155984497014342854010021291616514416815853704939473691640049207702048702160965\n",
            "Decrypted Plaintext: hola mundo!\n"
          ]
        }
      ]
    },
    {
      "cell_type": "markdown",
      "source": [
        "#Cuarta Prueba"
      ],
      "metadata": {
        "id": "tZu0_CZ_rDMw"
      }
    },
    {
      "cell_type": "code",
      "source": [
        "from Crypto.Util import number\n",
        "\n",
        "def generate_key_pair(bits=2000):\n",
        "    # Generar dos números primos p y q de 'bits' bits cada uno\n",
        "    p = number.getPrime(bits)\n",
        "    q = number.getPrime(bits)\n",
        "\n",
        "    # Calcular n como el producto de p y q\n",
        "    n = p * q\n",
        "\n",
        "    # Calcular phi(n) como (p-1)*(q-1)\n",
        "    phi = (p - 1) * (q - 1)\n",
        "\n",
        "    # Elegir un exponente público e comúnmente utilizado\n",
        "    e = 65537  # Elección común para e\n",
        "\n",
        "    # Calcular el exponente privado d como el inverso modular de e mod phi\n",
        "    d = number.inverse(e, phi)\n",
        "\n",
        "    # Devolver la clave pública (e, n) y la clave privada (d, n)\n",
        "    return ((e, n), (d, n))\n",
        "\n",
        "def encrypt(public_key, plaintext):\n",
        "    # Desempaquetar la clave pública en e y n\n",
        "    e, n = public_key\n",
        "\n",
        "    # Convertir el texto plano a bytes usando UTF-8\n",
        "    plaintext_bytes = plaintext.encode('utf-8')\n",
        "\n",
        "    # Convertir los bytes del texto plano a un número entero\n",
        "    plaintext_int = int.from_bytes(plaintext_bytes, byteorder='big')\n",
        "\n",
        "    # Cifrar el texto plano elevándolo a la potencia de e y tomando el módulo n\n",
        "    ciphertext_int = pow(plaintext_int, e, n)\n",
        "\n",
        "    # Devolver el texto cifrado como un número entero\n",
        "    return ciphertext_int\n",
        "\n",
        "def decrypt(private_key, ciphertext):\n",
        "    # Desempaquetar la clave privada en d y n\n",
        "    d, n = private_key\n",
        "\n",
        "    # Descifrar el texto cifrado elevándolo a la potencia de d y tomando el módulo n\n",
        "    plaintext_int = pow(ciphertext, d, n)\n",
        "\n",
        "    # Convertir el número entero descifrado de vuelta a bytes\n",
        "    plaintext_bytes = plaintext_int.to_bytes((plaintext_int.bit_length() + 7) // 8, byteorder='big')\n",
        "\n",
        "    try:\n",
        "        # Intentar decodificar los bytes como UTF-8 y devolver el texto plano\n",
        "        return plaintext_bytes.decode('utf-8')\n",
        "    except UnicodeDecodeError:\n",
        "        # Si falla la decodificación, devolver los bytes crudos\n",
        "        return plaintext_bytes\n",
        "\n",
        "# Generar un par de claves pública y privada\n",
        "public_key, private_key = generate_key_pair()\n",
        "print(\"Public Key:\", public_key)\n",
        "print(\"Private Key:\", private_key)\n",
        "\n",
        "# Texto plano a cifrar\n",
        "plaintext = \"hola mundo!\"  # El número de bits debe ser len(plaintext) * 4\n",
        "\n",
        "# Cifrar el texto plano usando la clave pública\n",
        "ciphertext = encrypt(public_key, plaintext)\n",
        "print(\"Ciphertext:\", ciphertext)\n",
        "\n",
        "# Descifrar el texto cifrado usando la clave privada\n",
        "decrypted_text = decrypt(private_key, ciphertext)\n",
        "print(\"Decrypted Plaintext:\", decrypted_text)"
      ],
      "metadata": {
        "colab": {
          "base_uri": "https://localhost:8080/"
        },
        "id": "FVPVAuQJq3b5",
        "outputId": "54687a9b-404c-4335-e606-b28b13bd8bca"
      },
      "execution_count": 5,
      "outputs": [
        {
          "output_type": "stream",
          "name": "stdout",
          "text": [
            "Public Key: (65537, 9387227839350644660006740313364868088657584991938792517056183541995402847439160123907001411221059564192172037968056639485375095382043905273100702850064876562111732622884371318937357988978777615797316930044885319832715279756936757323393488605886538721318024780328808651320784599909981470557184626181022376195084502633113500896987297429123099506506386058710748904803374764610438962471676214097156064297420905135145971197645052056315214960748143399844323736201144537255633527615306231671121433450684492857806262016954073098347656534564339881172687780281899858828062360293243350261011773360295254989287144190211304559277992310152131965123831677071102846894282670729373444931062688790709747204026507723961856395588567755353061455052899665749001435918567434076144714975190462834869183480891930143943307595258025681314914548460430029729111797887646554054598096716697537838544489827449315666854223424768950186753917447162145582466875973669162300601183330769370656775881576815104014722454251899681250599117875202900834195513235706763654347235867632720402275047636758197522067649630005263365198933671996832493854016198295554556341481903779770103068604534455252644307980043480401734587644366032593645890398570080179)\n",
            "Private Key: (780490478609360555905469093298826101516626953035300371171081131579610755995788386944310094904306781898517561604710936242974333502246932875064860000152639156307838794300882544469378575185702110692884629321064133356248616192311951884510598889382726543669406854570878714940368879944298473123061767063801988615393067348945412002192407093569918812441114143673266563655241910559871246875935176932349716867672406611248766300806687652087547588707396331625672826625570846750781193707002207247447101497974881388867148659999431532003240619144011596693623078791462415593544284926650335162919467675362754542268117973514813939876775712955517773966081737595209756098831703041000124407571916482270695096371542934817807912162361329391960201578460415604147263966074537813563580494575824913275422174303873106189946719818066531081206702660787650222697020058802515310580855647776837181445018053733973047032932829814766814352475820288550282407545676362397945620505196632267375221597079841943850600468383646183362649383501796666548719268743072965989527924996020883335481848655081206047616711862313321578286088156738542662484245087964950623069065352151871669170171295578087759180361169856492463769136803440202913836932680686041, 9387227839350644660006740313364868088657584991938792517056183541995402847439160123907001411221059564192172037968056639485375095382043905273100702850064876562111732622884371318937357988978777615797316930044885319832715279756936757323393488605886538721318024780328808651320784599909981470557184626181022376195084502633113500896987297429123099506506386058710748904803374764610438962471676214097156064297420905135145971197645052056315214960748143399844323736201144537255633527615306231671121433450684492857806262016954073098347656534564339881172687780281899858828062360293243350261011773360295254989287144190211304559277992310152131965123831677071102846894282670729373444931062688790709747204026507723961856395588567755353061455052899665749001435918567434076144714975190462834869183480891930143943307595258025681314914548460430029729111797887646554054598096716697537838544489827449315666854223424768950186753917447162145582466875973669162300601183330769370656775881576815104014722454251899681250599117875202900834195513235706763654347235867632720402275047636758197522067649630005263365198933671996832493854016198295554556341481903779770103068604534455252644307980043480401734587644366032593645890398570080179)\n",
            "Ciphertext: 92129243512083774077002279471679125778879419609757591173464528740946371202774302082322353583259678069691255408901459074431383672532208082147511245668899025527774186612551899122408877995910407202773503487132500596942923516571105678340577252792761980807517823954417045846683385778852241350044315146075337270833630902544656465326361085520375624160680863967908401593512928885445457348494346067891562716320967331834769505281964670652108489306616837556256848858275567692253928277796563027163496878049431732368045978253210753987044274795415968830603799466390677468276323507445726661251027105853384732502446327525628932319722446304504571631876535655849967302547948598163044544727863524642873563769936096632395614261744966599106353066192867702056297232160390344013665374507654188849730358331888594422796584765064353330213655868107775503511097643566243236648071455831148885788717577320827885758434710833438552170110754195212993044146370868261970609666069025371480911350858344421113495643457256752273637859036410802399676215268046910575361525891052501297090492478385942888580908305033776476035435660345496139520054029214213013843549691388427623133281301920180113304676743339328604405073090611949756073235865767250\n",
            "Decrypted Plaintext: hola mundo!\n"
          ]
        }
      ]
    },
    {
      "cell_type": "markdown",
      "source": [
        "#Quinta Prueba"
      ],
      "metadata": {
        "id": "lVN7AJ83rbec"
      }
    },
    {
      "cell_type": "code",
      "source": [
        "from Crypto.Util import number\n",
        "\n",
        "def generate_key_pair(bits=3000):\n",
        "    # Generar dos números primos p y q de 'bits' bits cada uno\n",
        "    p = number.getPrime(bits)\n",
        "    q = number.getPrime(bits)\n",
        "\n",
        "    # Calcular n como el producto de p y q\n",
        "    n = p * q\n",
        "\n",
        "    # Calcular phi(n) como (p-1)*(q-1)\n",
        "    phi = (p - 1) * (q - 1)\n",
        "\n",
        "    # Elegir un exponente público e comúnmente utilizado\n",
        "    e = 65537  # Elección común para e\n",
        "\n",
        "    # Calcular el exponente privado d como el inverso modular de e mod phi\n",
        "    d = number.inverse(e, phi)\n",
        "\n",
        "    # Devolver la clave pública (e, n) y la clave privada (d, n)\n",
        "    return ((e, n), (d, n))\n",
        "\n",
        "def encrypt(public_key, plaintext):\n",
        "    # Desempaquetar la clave pública en e y n\n",
        "    e, n = public_key\n",
        "\n",
        "    # Convertir el texto plano a bytes usando UTF-8\n",
        "    plaintext_bytes = plaintext.encode('utf-8')\n",
        "\n",
        "    # Convertir los bytes del texto plano a un número entero\n",
        "    plaintext_int = int.from_bytes(plaintext_bytes, byteorder='big')\n",
        "\n",
        "    # Cifrar el texto plano elevándolo a la potencia de e y tomando el módulo n\n",
        "    ciphertext_int = pow(plaintext_int, e, n)\n",
        "\n",
        "    # Devolver el texto cifrado como un número entero\n",
        "    return ciphertext_int\n",
        "\n",
        "def decrypt(private_key, ciphertext):\n",
        "    # Desempaquetar la clave privada en d y n\n",
        "    d, n = private_key\n",
        "\n",
        "    # Descifrar el texto cifrado elevándolo a la potencia de d y tomando el módulo n\n",
        "    plaintext_int = pow(ciphertext, d, n)\n",
        "\n",
        "    # Convertir el número entero descifrado de vuelta a bytes\n",
        "    plaintext_bytes = plaintext_int.to_bytes((plaintext_int.bit_length() + 7) // 8, byteorder='big')\n",
        "\n",
        "    try:\n",
        "        # Intentar decodificar los bytes como UTF-8 y devolver el texto plano\n",
        "        return plaintext_bytes.decode('utf-8')\n",
        "    except UnicodeDecodeError:\n",
        "        # Si falla la decodificación, devolver los bytes crudos\n",
        "        return plaintext_bytes\n",
        "\n",
        "# Generar un par de claves pública y privada\n",
        "public_key, private_key = generate_key_pair()\n",
        "print(\"Public Key:\", public_key)\n",
        "print(\"Private Key:\", private_key)\n",
        "\n",
        "# Texto plano a cifrar\n",
        "plaintext = \"hola mundo!\"  # El número de bits debe ser len(plaintext) * 4\n",
        "\n",
        "# Cifrar el texto plano usando la clave pública\n",
        "ciphertext = encrypt(public_key, plaintext)\n",
        "print(\"Ciphertext:\", ciphertext)\n",
        "\n",
        "# Descifrar el texto cifrado usando la clave privada\n",
        "decrypted_text = decrypt(private_key, ciphertext)\n",
        "print(\"Decrypted Plaintext:\", decrypted_text)"
      ],
      "metadata": {
        "colab": {
          "base_uri": "https://localhost:8080/"
        },
        "id": "G3ROGF5_ra0_",
        "outputId": "6eadfff3-50f5-4cb5-a210-719693aed983"
      },
      "execution_count": 6,
      "outputs": [
        {
          "output_type": "stream",
          "name": "stdout",
          "text": [
            "Public Key: (65537, 794826141401374408718000863810687482232116492818847119571007260498970025970016249917284506835435059498979289055089152698382208048572863532251603210109582361474929164898526221230240945323265791020493508547619209919093578320956757980519010498515545019304357658986112022129703488835212451505079579618132291037630484165242313512597619062408459027460827135745291358258096564335137244582096895303287523703921321185659342268870883199346552578388187075662934899721887835510418934591643700753681038539364809893096919790051493431821298939084559045484404056054932510104439585781678362390262672168403855442742564210872766938184470712943558361583886785549357086905465670861193954806168481747788682764111472658678961057633286325440134570863919513363934769309172624336331337565764541671985701263175813032070597754776861348194858074680337023982351613745148434689333464798057202157201473717963983576195276166125825823393150996170576346223798943223336756055822884587919391694322469816873261907214616090601403386625837439503756588012510589541004077727668116294272054064414615271503601725021431097588920073890890319554034742828791653258431169172639270244395941698088489213257652333592604725018005911450890557137535295544276789341515757977219312747966404287830794963849071137129180408164153053455455573270049273451678099109696325442024511392327571135769284233280810168098539303489107414853592763735735803655023042298913869640064378377383577875937608202982642979371813422303814591896194503520339381441867731588532527588067839623990785300346535874972069864983789258103657405837993531255172304346860474535035351524812448681932067417421046644656518189863223522301026198574727634933703031619591926663438643960058882580473920026156041230365421086372926165819683873572505358050859964316947437221468694805195610686192135057283560011379)\n",
            "Private Key: (143764119202464138440013766873855828224964659747541293550127715122065256082038735775508347102052995945815348466652834522279364240166359832023292254034194261454198549227262917534572473043654617799974518978950487730304030965967642844516415924583109856399192146262742754632123917125480391231536587527554513907564761269127094379943118793441718011375568684363408208504989191962230753578530854279646158749809776787689485988910011893206189393231511506399567119357054158752162992670542509250257641192694667996288674904119358578220084496145816301099716582700995925580634250116056812301053965178208634853872932178093073825247397894795809097429168163875399833806512200167670066378874852108553748958386520544058782128830812763809258208386421439971559313904983937148219657224233225154946343329320629380077892881656543851892852092974361278091563483670827006802376655808416162997565745601000123003985821805594634165593179285044776192907098913666637162767811505840814450703122027994220453881334309997046597963241116189933294423165858202808928472725448463405043674874631299406527740599863857699295753911367705368458999642542895325021979270516113884937102753043392478646907701273862578673626665418715227594441677970007133991098924314783709965103960579488283715414490873803133486117276591645534376346681844250759209639277356413461662845485749806500407746751666065971861923555801641781821006549988025165130618069842660851150092282615204256708770560830446915221509550436721359158827241890447677252990441427900144989753071639042413899293067694630161815299142342613370543958660603191907826752425589453507711980732942573584618717109842319042549964372544890183899348682559108410152275230352652446644278245575974378061710590652933460315312864829679845009484179999477585017325147148104856908713190693320790678387244710536444741796113, 794826141401374408718000863810687482232116492818847119571007260498970025970016249917284506835435059498979289055089152698382208048572863532251603210109582361474929164898526221230240945323265791020493508547619209919093578320956757980519010498515545019304357658986112022129703488835212451505079579618132291037630484165242313512597619062408459027460827135745291358258096564335137244582096895303287523703921321185659342268870883199346552578388187075662934899721887835510418934591643700753681038539364809893096919790051493431821298939084559045484404056054932510104439585781678362390262672168403855442742564210872766938184470712943558361583886785549357086905465670861193954806168481747788682764111472658678961057633286325440134570863919513363934769309172624336331337565764541671985701263175813032070597754776861348194858074680337023982351613745148434689333464798057202157201473717963983576195276166125825823393150996170576346223798943223336756055822884587919391694322469816873261907214616090601403386625837439503756588012510589541004077727668116294272054064414615271503601725021431097588920073890890319554034742828791653258431169172639270244395941698088489213257652333592604725018005911450890557137535295544276789341515757977219312747966404287830794963849071137129180408164153053455455573270049273451678099109696325442024511392327571135769284233280810168098539303489107414853592763735735803655023042298913869640064378377383577875937608202982642979371813422303814591896194503520339381441867731588532527588067839623990785300346535874972069864983789258103657405837993531255172304346860474535035351524812448681932067417421046644656518189863223522301026198574727634933703031619591926663438643960058882580473920026156041230365421086372926165819683873572505358050859964316947437221468694805195610686192135057283560011379)\n",
            "Ciphertext: 513256272333363325202666680350844117557751665494955470903439511224807050551645967927617235533479857857187431852249995992633594241521963983383131075112899560288420089226815764815890994216302656099715051336171535624808287545232547371321800578898566819939597693087683280957773787965674556633063199853844952511625303720060045618973538083079621100943452165568972462865132729300497812678293286002532421574403199673047567664378954753766473118317841868558954653319082501060643360716890362893830529280200425632662445297104879020989576943327444578686074654257618382187701173507810102900751810730791237733022768106941647819615779095359397523595259949053059304590140593589519837604717631918281277470954076138416659162605415450985874714177557724187187189850044149343531162903629119991380099084350466608920459060055535788455364838055111606550267712914451696806896957097601590029459968205138078820786119907246501525053219881577649553914727003935810075096850804022014125363326819789491372700694595249800255615247077962324501317776702219211189513481073832125220946461890139780191881852756713472577576541705321620785764897651329324825706111393450752600992921308151525954797328568920462354151746309166974354440487858003042468042287192831025406227248853335341911982397601789417990514586025891995385060572496297918479618245781231832862319940220194512273796994558972395175782375775210494566612448929710612316458923427312364974457501527782182214252401807626703284312764592346325463627907938414059670695478592350344560520663125657609514304300802486667166575627633036555872894531476902922258498443088019685599757653664873333379562704283313683392581662942613921128292355878005503349570454684694521627332023742949616041099312272182481260423682694245773794579823526400703297828305754143603834936872657856701187094776762318837771325029\n",
            "Decrypted Plaintext: hola mundo!\n"
          ]
        }
      ]
    },
    {
      "cell_type": "markdown",
      "source": [
        "#Sexta Prueba"
      ],
      "metadata": {
        "id": "PGX-ff91ryo6"
      }
    },
    {
      "cell_type": "code",
      "source": [
        "from Crypto.Util import number\n",
        "\n",
        "def generate_key_pair(bits=10000):\n",
        "    # Generar dos números primos p y q de 'bits' bits cada uno\n",
        "    p = number.getPrime(bits)\n",
        "    q = number.getPrime(bits)\n",
        "\n",
        "    # Calcular n como el producto de p y q\n",
        "    n = p * q\n",
        "\n",
        "    # Calcular phi(n) como (p-1)*(q-1)\n",
        "    phi = (p - 1) * (q - 1)\n",
        "\n",
        "    # Elegir un exponente público e comúnmente utilizado\n",
        "    e = 65537  # Elección común para e\n",
        "\n",
        "    # Calcular el exponente privado d como el inverso modular de e mod phi\n",
        "    d = number.inverse(e, phi)\n",
        "\n",
        "    # Devolver la clave pública (e, n) y la clave privada (d, n)\n",
        "    return ((e, n), (d, n))\n",
        "\n",
        "def encrypt(public_key, plaintext):\n",
        "    # Desempaquetar la clave pública en e y n\n",
        "    e, n = public_key\n",
        "\n",
        "    # Convertir el texto plano a bytes usando UTF-8\n",
        "    plaintext_bytes = plaintext.encode('utf-8')\n",
        "\n",
        "    # Convertir los bytes del texto plano a un número entero\n",
        "    plaintext_int = int.from_bytes(plaintext_bytes, byteorder='big')\n",
        "\n",
        "    # Cifrar el texto plano elevándolo a la potencia de e y tomando el módulo n\n",
        "    ciphertext_int = pow(plaintext_int, e, n)\n",
        "\n",
        "    # Devolver el texto cifrado como un número entero\n",
        "    return ciphertext_int\n",
        "\n",
        "def decrypt(private_key, ciphertext):\n",
        "    # Desempaquetar la clave privada en d y n\n",
        "    d, n = private_key\n",
        "\n",
        "    # Descifrar el texto cifrado elevándolo a la potencia de d y tomando el módulo n\n",
        "    plaintext_int = pow(ciphertext, d, n)\n",
        "\n",
        "    # Convertir el número entero descifrado de vuelta a bytes\n",
        "    plaintext_bytes = plaintext_int.to_bytes((plaintext_int.bit_length() + 7) // 8, byteorder='big')\n",
        "\n",
        "    try:\n",
        "        # Intentar decodificar los bytes como UTF-8 y devolver el texto plano\n",
        "        return plaintext_bytes.decode('utf-8')\n",
        "    except UnicodeDecodeError:\n",
        "        # Si falla la decodificación, devolver los bytes crudos\n",
        "        return plaintext_bytes\n",
        "\n",
        "# Generar un par de claves pública y privada\n",
        "public_key, private_key = generate_key_pair()\n",
        "print(\"Public Key:\", public_key)\n",
        "print(\"Private Key:\", private_key)\n",
        "\n",
        "# Texto plano a cifrar\n",
        "plaintext = \"hola mundo!\"  # El número de bits debe ser len(plaintext) * 4\n",
        "\n",
        "# Cifrar el texto plano usando la clave pública\n",
        "ciphertext = encrypt(public_key, plaintext)\n",
        "print(\"Ciphertext:\", ciphertext)\n",
        "\n",
        "# Descifrar el texto cifrado usando la clave privada\n",
        "decrypted_text = decrypt(private_key, ciphertext)\n",
        "print(\"Decrypted Plaintext:\", decrypted_text)"
      ],
      "metadata": {
        "id": "GtOt07gYrvXK"
      },
      "execution_count": null,
      "outputs": []
    }
  ]
}
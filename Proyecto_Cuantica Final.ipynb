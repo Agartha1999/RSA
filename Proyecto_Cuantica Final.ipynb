{
  "cells": [
    {
      "cell_type": "markdown",
      "metadata": {
        "id": "UBvpDSz1w_nL"
      },
      "source": [
        "#Descifrar RSA con computación cuántica"
      ]
    },
    {
      "cell_type": "markdown",
      "metadata": {
        "id": "QKdT-Oqqw-fy"
      },
      "source": [
        "#Integrantes"
      ]
    },
    {
      "cell_type": "markdown",
      "metadata": {
        "id": "nHZkiuOqxKBF"
      },
      "source": [
        "-Arana Flores Shaiel Almendra\n",
        "\n",
        "-Huerta Medina Vito Jhon\n",
        "\n",
        "-Lima Esperilla Katerine Candy\n",
        "\n",
        "-Mamani Meza Johana Maria\n",
        "\n",
        "-Poma Supo Juan Gabriel"
      ]
    },
    {
      "cell_type": "markdown",
      "metadata": {
        "id": "UK5TSQ6aw6BU"
      },
      "source": [
        "#Instalación"
      ]
    },
    {
      "cell_type": "code",
      "execution_count": null,
      "metadata": {
        "colab": {
          "base_uri": "https://localhost:8080/"
        },
        "id": "vtABojIbIRIG",
        "outputId": "a1bf1ad2-4a6f-4596-929e-fe94d4c28395"
      },
      "outputs": [
        {
          "name": "stdout",
          "output_type": "stream",
          "text": [
            "Collecting qiskit\n",
            "  Downloading qiskit-1.1.1-cp38-abi3-manylinux_2_17_x86_64.manylinux2014_x86_64.whl.metadata (12 kB)\n",
            "Collecting rustworkx>=0.14.0 (from qiskit)\n",
            "  Downloading rustworkx-0.15.1-cp38-abi3-manylinux_2_17_x86_64.manylinux2014_x86_64.whl.metadata (9.9 kB)\n",
            "Requirement already satisfied: numpy<3,>=1.17 in /usr/local/lib/python3.10/dist-packages (from qiskit) (1.26.4)\n",
            "Requirement already satisfied: scipy>=1.5 in /usr/local/lib/python3.10/dist-packages (from qiskit) (1.13.1)\n",
            "Requirement already satisfied: sympy>=1.3 in /usr/local/lib/python3.10/dist-packages (from qiskit) (1.13.1)\n",
            "Collecting dill>=0.3 (from qiskit)\n",
            "  Downloading dill-0.3.8-py3-none-any.whl.metadata (10 kB)\n",
            "Requirement already satisfied: python-dateutil>=2.8.0 in /usr/local/lib/python3.10/dist-packages (from qiskit) (2.8.2)\n",
            "Collecting stevedore>=3.0.0 (from qiskit)\n",
            "  Downloading stevedore-5.2.0-py3-none-any.whl.metadata (2.3 kB)\n",
            "Requirement already satisfied: typing-extensions in /usr/local/lib/python3.10/dist-packages (from qiskit) (4.12.2)\n",
            "Collecting symengine>=0.11 (from qiskit)\n",
            "  Downloading symengine-0.11.0-cp310-cp310-manylinux_2_12_x86_64.manylinux2010_x86_64.whl.metadata (1.2 kB)\n",
            "Requirement already satisfied: six>=1.5 in /usr/local/lib/python3.10/dist-packages (from python-dateutil>=2.8.0->qiskit) (1.16.0)\n",
            "Collecting pbr!=2.1.0,>=2.0.0 (from stevedore>=3.0.0->qiskit)\n",
            "  Downloading pbr-6.0.0-py2.py3-none-any.whl.metadata (1.3 kB)\n",
            "Requirement already satisfied: mpmath<1.4,>=1.1.0 in /usr/local/lib/python3.10/dist-packages (from sympy>=1.3->qiskit) (1.3.0)\n",
            "Downloading qiskit-1.1.1-cp38-abi3-manylinux_2_17_x86_64.manylinux2014_x86_64.whl (4.3 MB)\n",
            "\u001b[2K   \u001b[90m━━━━━━━━━━━━━━━━━━━━━━━━━━━━━━━━━━━━━━━━\u001b[0m \u001b[32m4.3/4.3 MB\u001b[0m \u001b[31m38.1 MB/s\u001b[0m eta \u001b[36m0:00:00\u001b[0m\n",
            "\u001b[?25hDownloading dill-0.3.8-py3-none-any.whl (116 kB)\n",
            "\u001b[2K   \u001b[90m━━━━━━━━━━━━━━━━━━━━━━━━━━━━━━━━━━━━━━━━\u001b[0m \u001b[32m116.3/116.3 kB\u001b[0m \u001b[31m9.0 MB/s\u001b[0m eta \u001b[36m0:00:00\u001b[0m\n",
            "\u001b[?25hDownloading rustworkx-0.15.1-cp38-abi3-manylinux_2_17_x86_64.manylinux2014_x86_64.whl (2.0 MB)\n",
            "\u001b[2K   \u001b[90m━━━━━━━━━━━━━━━━━━━━━━━━━━━━━━━━━━━━━━━━\u001b[0m \u001b[32m2.0/2.0 MB\u001b[0m \u001b[31m41.0 MB/s\u001b[0m eta \u001b[36m0:00:00\u001b[0m\n",
            "\u001b[?25hDownloading stevedore-5.2.0-py3-none-any.whl (49 kB)\n",
            "\u001b[2K   \u001b[90m━━━━━━━━━━━━━━━━━━━━━━━━━━━━━━━━━━━━━━━━\u001b[0m \u001b[32m49.7/49.7 kB\u001b[0m \u001b[31m3.3 MB/s\u001b[0m eta \u001b[36m0:00:00\u001b[0m\n",
            "\u001b[?25hDownloading symengine-0.11.0-cp310-cp310-manylinux_2_12_x86_64.manylinux2010_x86_64.whl (39.4 MB)\n",
            "\u001b[2K   \u001b[90m━━━━━━━━━━━━━━━━━━━━━━━━━━━━━━━━━━━━━━━━\u001b[0m \u001b[32m39.4/39.4 MB\u001b[0m \u001b[31m17.4 MB/s\u001b[0m eta \u001b[36m0:00:00\u001b[0m\n",
            "\u001b[?25hDownloading pbr-6.0.0-py2.py3-none-any.whl (107 kB)\n",
            "\u001b[2K   \u001b[90m━━━━━━━━━━━━━━━━━━━━━━━━━━━━━━━━━━━━━━━━\u001b[0m \u001b[32m107.5/107.5 kB\u001b[0m \u001b[31m8.1 MB/s\u001b[0m eta \u001b[36m0:00:00\u001b[0m\n",
            "\u001b[?25hInstalling collected packages: symengine, rustworkx, pbr, dill, stevedore, qiskit\n",
            "Successfully installed dill-0.3.8 pbr-6.0.0 qiskit-1.1.1 rustworkx-0.15.1 stevedore-5.2.0 symengine-0.11.0\n"
          ]
        }
      ],
      "source": [
        "!pip install qiskit"
      ]
    },
    {
      "cell_type": "code",
      "execution_count": null,
      "metadata": {
        "colab": {
          "base_uri": "https://localhost:8080/"
        },
        "id": "k7ZMIqQvvK5q",
        "outputId": "33e9e972-9da4-4570-accd-e035400456c9"
      },
      "outputs": [
        {
          "name": "stdout",
          "output_type": "stream",
          "text": [
            "Collecting qiskit-aer\n",
            "  Downloading qiskit_aer-0.14.2-cp310-cp310-manylinux_2_17_x86_64.manylinux2014_x86_64.whl.metadata (8.1 kB)\n",
            "Requirement already satisfied: qiskit>=0.45.2 in /usr/local/lib/python3.10/dist-packages (from qiskit-aer) (1.1.1)\n",
            "Requirement already satisfied: numpy>=1.16.3 in /usr/local/lib/python3.10/dist-packages (from qiskit-aer) (1.26.4)\n",
            "Requirement already satisfied: scipy>=1.0 in /usr/local/lib/python3.10/dist-packages (from qiskit-aer) (1.13.1)\n",
            "Requirement already satisfied: psutil>=5 in /usr/local/lib/python3.10/dist-packages (from qiskit-aer) (5.9.5)\n",
            "Requirement already satisfied: rustworkx>=0.14.0 in /usr/local/lib/python3.10/dist-packages (from qiskit>=0.45.2->qiskit-aer) (0.15.1)\n",
            "Requirement already satisfied: sympy>=1.3 in /usr/local/lib/python3.10/dist-packages (from qiskit>=0.45.2->qiskit-aer) (1.13.1)\n",
            "Requirement already satisfied: dill>=0.3 in /usr/local/lib/python3.10/dist-packages (from qiskit>=0.45.2->qiskit-aer) (0.3.8)\n",
            "Requirement already satisfied: python-dateutil>=2.8.0 in /usr/local/lib/python3.10/dist-packages (from qiskit>=0.45.2->qiskit-aer) (2.8.2)\n",
            "Requirement already satisfied: stevedore>=3.0.0 in /usr/local/lib/python3.10/dist-packages (from qiskit>=0.45.2->qiskit-aer) (5.2.0)\n",
            "Requirement already satisfied: typing-extensions in /usr/local/lib/python3.10/dist-packages (from qiskit>=0.45.2->qiskit-aer) (4.12.2)\n",
            "Requirement already satisfied: symengine>=0.11 in /usr/local/lib/python3.10/dist-packages (from qiskit>=0.45.2->qiskit-aer) (0.11.0)\n",
            "Requirement already satisfied: six>=1.5 in /usr/local/lib/python3.10/dist-packages (from python-dateutil>=2.8.0->qiskit>=0.45.2->qiskit-aer) (1.16.0)\n",
            "Requirement already satisfied: pbr!=2.1.0,>=2.0.0 in /usr/local/lib/python3.10/dist-packages (from stevedore>=3.0.0->qiskit>=0.45.2->qiskit-aer) (6.0.0)\n",
            "Requirement already satisfied: mpmath<1.4,>=1.1.0 in /usr/local/lib/python3.10/dist-packages (from sympy>=1.3->qiskit>=0.45.2->qiskit-aer) (1.3.0)\n",
            "Downloading qiskit_aer-0.14.2-cp310-cp310-manylinux_2_17_x86_64.manylinux2014_x86_64.whl (12.4 MB)\n",
            "\u001b[2K   \u001b[90m━━━━━━━━━━━━━━━━━━━━━━━━━━━━━━━━━━━━━━━━\u001b[0m \u001b[32m12.4/12.4 MB\u001b[0m \u001b[31m28.7 MB/s\u001b[0m eta \u001b[36m0:00:00\u001b[0m\n",
            "\u001b[?25hInstalling collected packages: qiskit-aer\n",
            "Successfully installed qiskit-aer-0.14.2\n"
          ]
        }
      ],
      "source": [
        "!pip install qiskit-aer"
      ]
    },
    {
      "cell_type": "code",
      "execution_count": null,
      "metadata": {
        "colab": {
          "base_uri": "https://localhost:8080/"
        },
        "id": "hdBQQExgvXh2",
        "outputId": "458d3618-3922-41ec-c0ac-23206abbfecc"
      },
      "outputs": [
        {
          "name": "stdout",
          "output_type": "stream",
          "text": [
            "Collecting pycryptodome\n",
            "  Downloading pycryptodome-3.20.0-cp35-abi3-manylinux_2_17_x86_64.manylinux2014_x86_64.whl.metadata (3.4 kB)\n",
            "Downloading pycryptodome-3.20.0-cp35-abi3-manylinux_2_17_x86_64.manylinux2014_x86_64.whl (2.1 MB)\n",
            "\u001b[2K   \u001b[90m━━━━━━━━━━━━━━━━━━━━━━━━━━━━━━━━━━━━━━━━\u001b[0m \u001b[32m2.1/2.1 MB\u001b[0m \u001b[31m15.6 MB/s\u001b[0m eta \u001b[36m0:00:00\u001b[0m\n",
            "\u001b[?25hInstalling collected packages: pycryptodome\n",
            "Successfully installed pycryptodome-3.20.0\n"
          ]
        }
      ],
      "source": [
        "!pip install pycryptodome"
      ]
    },
    {
      "cell_type": "markdown",
      "metadata": {
        "id": "ygT6C8B1x9cq"
      },
      "source": [
        "#Modulos Requeridos"
      ]
    },
    {
      "cell_type": "code",
      "execution_count": null,
      "metadata": {
        "id": "6IagXDZSIQE0"
      },
      "outputs": [],
      "source": [
        "from __future__ import unicode_literals\n",
        "from math import sqrt\n",
        "import random\n",
        "from random import randint as rand\n",
        "\n",
        "# Función para calcular el máximo común divisor (GCD) de dos números\n",
        "def calcular_mcd(a, b):\n",
        "    if b == 0:\n",
        "        return a\n",
        "    else:\n",
        "        return calcular_mcd(b, a % b)\n",
        "\n",
        "# Función para calcular el inverso modular\n",
        "def inverso_modular(a, m):\n",
        "    for x in range(1, m):\n",
        "        if (a * x) % m == 1:\n",
        "            return x\n",
        "    return -1\n",
        "\n",
        "# Función para verificar si un número es primo\n",
        "def es_primo(n):\n",
        "    if n < 2:\n",
        "        return False\n",
        "    elif n == 2:\n",
        "        return True\n",
        "    else:\n",
        "        for i in range(1, int(sqrt(n)) + 1):\n",
        "            if n % i == 0:\n",
        "                return False\n",
        "    return True\n",
        "# Función para verificar si un número es primo\n",
        "def es_primo(n):\n",
        "    # Un número menor que 2 no es primo\n",
        "    if n < 2:\n",
        "        return False\n",
        "    # El número 2 es primo\n",
        "    elif n == 2:\n",
        "        return True\n",
        "    else:\n",
        "        # Verificar si n es divisible por cualquier número desde 2 hasta la raíz cuadrada de n\n",
        "        for i in range(2, int(sqrt(n)) + 1):\n",
        "            if n % i == 0:\n",
        "                return False\n",
        "    return True\n",
        "\n",
        "# Función para generar un par de claves pública y privada\n",
        "def generar_claves(tamano_clave):\n",
        "    # Generar dos números aleatorios entre 1 y 1000\n",
        "    p = rand(1, 1000)\n",
        "    q = rand(1, 1000)\n",
        "\n",
        "    # Calcular el valor mínimo y máximo de n para el tamaño de clave deseado\n",
        "    n_min = 1 << (tamano_clave - 1)  # 2^(tamano_clave - 1)\n",
        "    n_max = (1 << tamano_clave) - 1  # 2^tamano_clave - 1\n",
        "\n",
        "    # Lista inicial de números primos con el primer primo conocido\n",
        "    primos = [2]\n",
        "\n",
        "    # Calcular los límites de inicio y fin para la búsqueda de primos\n",
        "    inicio = 1 << (tamano_clave // 2 - 1)\n",
        "    fin = 1 << (tamano_clave // 2 + 1)\n",
        "\n",
        "    # Si el inicio es mayor o igual que el fin, no se pueden generar claves válidas\n",
        "    if inicio >= fin:\n",
        "        return []\n",
        "\n",
        "    # Generar lista de números primos hasta el límite de fin\n",
        "    for i in range(3, fin + 1, 2):\n",
        "        for p in primos:\n",
        "            if i % p == 0:\n",
        "                break\n",
        "        else:\n",
        "            primos.append(i)\n",
        "\n",
        "    # Eliminar números primos menores que el inicio\n",
        "    while (primos and primos[0] < inicio):\n",
        "        del primos[0]\n",
        "\n",
        "    # Seleccionar números primos p y q dentro del rango deseado\n",
        "    while primos:\n",
        "        p = random.choice(primos)\n",
        "        primos.remove(p)\n",
        "\n",
        "        # Filtrar valores posibles de q que cumplen con la condición n_min <= p * q <= n_max\n",
        "        q_valores = [q for q in primos if n_min <= p * q <= n_max]\n",
        "        if q_valores:\n",
        "            q = random.choice(q_valores)\n",
        "            break\n",
        "\n",
        "    # Imprimir los primos seleccionados p y q\n",
        "    print(p, q)\n",
        "\n",
        "    # Calcular n y phi (totient de Euler)\n",
        "    n = p * q\n",
        "    phi = (p - 1) * (q - 1)\n",
        "\n",
        "    # Seleccionar un número e aleatorio tal que 1 < e < phi y gcd(e, phi) = 1\n",
        "    e = random.randrange(1, phi)\n",
        "    g = calcular_mcd(e, phi)\n",
        "\n",
        "    # Repetir hasta encontrar un e coprimo con phi\n",
        "    while True:\n",
        "        e = random.randrange(1, phi)\n",
        "        g = calcular_mcd(e, phi)\n",
        "        d = inverso_modular(e, phi)\n",
        "        if g == 1 and e != d:\n",
        "            break\n",
        "\n",
        "    # Retornar las claves pública (e, n) y privada (d, n)\n",
        "    return ((e, n), (d, n))\n",
        "\n",
        "\n",
        "# Función para cifrar un mensaje de texto\n",
        "def cifrar(mensaje_texto, paquete):\n",
        "    e, n = paquete\n",
        "    mensaje_cifrado = [pow(ord(c), e, n) for c in mensaje_texto]\n",
        "    return ''.join(map(lambda x: str(x), mensaje_cifrado)), mensaje_cifrado\n",
        "\n",
        "# Función para descifrar un mensaje cifrado\n",
        "def descifrar(mensaje_cifrado, paquete):\n",
        "    d, n = paquete\n",
        "    mensaje_descifrado = [chr(pow(c, d, n)) for c in mensaje_cifrado]\n",
        "    return (''.join(mensaje_descifrado))\n"
      ]
    },
    {
      "cell_type": "code",
      "execution_count": null,
      "metadata": {
        "colab": {
          "background_save": true,
          "base_uri": "https://localhost:8080/"
        },
        "id": "-fzxrylsCHqV",
        "outputId": "1c764544-5133-44b2-a18f-652b96b66ae8"
      },
      "outputs": [
        {
          "name": "stdout",
          "output_type": "stream",
          "text": [
            "56501 40813\n"
          ]
        }
      ],
      "source": [
        "# Solicita al usuario que ingrese el tamaño en bits para la generación de claves\n",
        "bit_length = int(input(\"Ingrese el tamaño en bits: \"))\n",
        "\n",
        "# Genera un par de claves (pública y privada) basado en el tamaño en bits ingresado\n",
        "publica, privada = generar_claves(2**bit_length)\n"
      ]
    },
    {
      "cell_type": "markdown",
      "metadata": {
        "id": "p5PwW39BCfjx"
      },
      "source": [
        "#RSA Encriptación"
      ]
    },
    {
      "cell_type": "code",
      "execution_count": null,
      "metadata": {
        "colab": {
          "base_uri": "https://localhost:8080/"
        },
        "id": "OCiHf_qPCibL",
        "outputId": "030b28ac-4454-4278-f671-f34c2156799b"
      },
      "outputs": [
        {
          "name": "stdout",
          "output_type": "stream",
          "text": [
            "\n",
            "Escriba el mensaje: hola\n",
            "\n",
            "Mensaje cifrado: 5632121236431541208\n"
          ]
        }
      ],
      "source": [
        "# Solicita al usuario que escriba un mensaje para cifrar\n",
        "mensaje = input(\"\\nEscriba el mensaje: \")\n",
        "\n",
        "# Cifra el mensaje utilizando la clave pública generada\n",
        "mensaje_cifrado, objeto_cifrado = cifrar(mensaje, publica)\n",
        "\n",
        "# Imprime el mensaje cifrado\n",
        "print(\"\\nMensaje cifrado: \" + mensaje_cifrado)\n"
      ]
    },
    {
      "cell_type": "markdown",
      "metadata": {
        "id": "UXHBqsuuCpsY"
      },
      "source": [
        "#RSA Descifrar"
      ]
    },
    {
      "cell_type": "code",
      "execution_count": null,
      "metadata": {
        "colab": {
          "base_uri": "https://localhost:8080/"
        },
        "id": "-iARMuUNCuAd",
        "outputId": "56a4b49c-0ee9-4841-9cf4-557def3606b2"
      },
      "outputs": [
        {
          "name": "stdout",
          "output_type": "stream",
          "text": [
            "\n",
            "Mensaje descifrado utilizando el Algoritmo RSA: hola\n"
          ]
        }
      ],
      "source": [
        "# Descifra el mensaje cifrado utilizando la clave privada\n",
        "mensaje_descifrado = descifrar(objeto_cifrado, privada)\n",
        "\n",
        "# Imprime el mensaje descifrado\n",
        "print(\"\\nMensaje descifrado utilizando el Algoritmo RSA: \" + mensaje_descifrado)\n"
      ]
    },
    {
      "cell_type": "markdown",
      "metadata": {
        "id": "jcJMt2K6C12R"
      },
      "source": [
        "#Algoritmo cuántico de Shor"
      ]
    },
    {
      "cell_type": "code",
      "execution_count": null,
      "metadata": {
        "colab": {
          "base_uri": "https://localhost:8080/"
        },
        "id": "Xeu-kDp5CxaA",
        "outputId": "678705d2-a99a-4105-8ce7-20153861caa9"
      },
      "outputs": [
        {
          "name": "stdout",
          "output_type": "stream",
          "text": [
            "Requirement already satisfied: qiskit-aer in /usr/local/lib/python3.10/dist-packages (0.14.2)\n",
            "Requirement already satisfied: qiskit>=0.45.2 in /usr/local/lib/python3.10/dist-packages (from qiskit-aer) (1.1.1)\n",
            "Requirement already satisfied: numpy>=1.16.3 in /usr/local/lib/python3.10/dist-packages (from qiskit-aer) (1.25.2)\n",
            "Requirement already satisfied: scipy>=1.0 in /usr/local/lib/python3.10/dist-packages (from qiskit-aer) (1.13.1)\n",
            "Requirement already satisfied: psutil>=5 in /usr/local/lib/python3.10/dist-packages (from qiskit-aer) (5.9.5)\n",
            "Requirement already satisfied: rustworkx>=0.14.0 in /usr/local/lib/python3.10/dist-packages (from qiskit>=0.45.2->qiskit-aer) (0.15.1)\n",
            "Requirement already satisfied: sympy>=1.3 in /usr/local/lib/python3.10/dist-packages (from qiskit>=0.45.2->qiskit-aer) (1.13.1)\n",
            "Requirement already satisfied: dill>=0.3 in /usr/local/lib/python3.10/dist-packages (from qiskit>=0.45.2->qiskit-aer) (0.3.8)\n",
            "Requirement already satisfied: python-dateutil>=2.8.0 in /usr/local/lib/python3.10/dist-packages (from qiskit>=0.45.2->qiskit-aer) (2.8.2)\n",
            "Requirement already satisfied: stevedore>=3.0.0 in /usr/local/lib/python3.10/dist-packages (from qiskit>=0.45.2->qiskit-aer) (5.2.0)\n",
            "Requirement already satisfied: typing-extensions in /usr/local/lib/python3.10/dist-packages (from qiskit>=0.45.2->qiskit-aer) (4.12.2)\n",
            "Requirement already satisfied: symengine>=0.11 in /usr/local/lib/python3.10/dist-packages (from qiskit>=0.45.2->qiskit-aer) (0.11.0)\n",
            "Requirement already satisfied: six>=1.5 in /usr/local/lib/python3.10/dist-packages (from python-dateutil>=2.8.0->qiskit>=0.45.2->qiskit-aer) (1.16.0)\n",
            "Requirement already satisfied: pbr!=2.1.0,>=2.0.0 in /usr/local/lib/python3.10/dist-packages (from stevedore>=3.0.0->qiskit>=0.45.2->qiskit-aer) (6.0.0)\n",
            "Requirement already satisfied: mpmath<1.4,>=1.1.0 in /usr/local/lib/python3.10/dist-packages (from sympy>=1.3->qiskit>=0.45.2->qiskit-aer) (1.3.0)\n"
          ]
        }
      ],
      "source": [
        "!pip install qiskit-aer\n",
        "from math import gcd,log\n",
        "from random import randint\n",
        "import numpy as np\n",
        "from qiskit import *\n",
        "from qiskit_aer import AerSimulator\n",
        "\n",
        "\n",
        "# Use qiskit.Aer to get the backend\n",
        "qasm_sim = Aer.get_backend('qasm_simulator')\n"
      ]
    },
    {
      "cell_type": "code",
      "execution_count": null,
      "metadata": {
        "id": "QQYOVwQGC8Gk"
      },
      "outputs": [],
      "source": [
        "from qiskit import QuantumCircuit, QuantumRegister, ClassicalRegister, transpile, assemble\n",
        "from qiskit_aer import Aer\n",
        "import numpy as np\n",
        "from random import randint\n",
        "\n",
        "# Obtén el backend del simulador de QASM\n",
        "qasm_sim = Aer.get_backend('qasm_simulator')\n",
        "\n",
        "def periodo(a, N):\n",
        "    available_qubits = 16  # Número de qubits disponibles en el simulador\n",
        "    r = -1  # Inicializa r como -1 para usarlo como contador\n",
        "\n",
        "    # Verifica si N es demasiado grande para el simulador\n",
        "    if N >= 2**available_qubits:\n",
        "        print(f\"{N} es demasiado grande para el simulador\")\n",
        "        return r\n",
        "\n",
        "    # Crea registros cuánticos y clásicos\n",
        "    qr = QuantumRegister(available_qubits)\n",
        "    cr = ClassicalRegister(available_qubits)\n",
        "    qc = QuantumCircuit(qr, cr)\n",
        "\n",
        "    # Inicializa x0 y su representación binaria\n",
        "    x0 = randint(1, N - 1)  # Escoge un x0 aleatorio entre 1 y N-1\n",
        "    x_binario = np.zeros(available_qubits, dtype=bool)  # Inicializa x_binario como un array de ceros\n",
        "\n",
        "    # Convierte N a binario y lo almacena en x_binario\n",
        "    for i in range(1, available_qubits + 1):\n",
        "        bit_state = (N % (2**i) != 0)\n",
        "        if bit_state:\n",
        "            N -= 2**(i - 1)\n",
        "        x_binario[available_qubits - i] = bit_state\n",
        "\n",
        "    # Configura el estado inicial del circuito cuántico\n",
        "    for i in range(available_qubits):\n",
        "        if x_binario[available_qubits - i - 1]:\n",
        "            qc.x(qr[i])  # Aplica la puerta X a los qubits que corresponden a 1 en x_binario\n",
        "\n",
        "    x = x0\n",
        "    while x != x0 or r <= 0:\n",
        "        r += 1  # Incrementa el contador r\n",
        "\n",
        "        # Mide el circuito cuántico\n",
        "        qc.measure(qr, cr)\n",
        "\n",
        "        # Define las puertas cuánticas (esta sección necesita lógica específica según el algoritmo)\n",
        "        for i in range(0, 3):\n",
        "            qc.x(qr[i])\n",
        "        qc.cx(qr[2], qr[1])\n",
        "        qc.cx(qr[1], qr[2])\n",
        "        qc.cx(qr[2], qr[1])\n",
        "        qc.cx(qr[1], qr[0])\n",
        "        qc.cx(qr[0], qr[1])\n",
        "        qc.cx(qr[1], qr[0])\n",
        "        qc.cx(qr[3], qr[0])\n",
        "        qc.cx(qr[0], qr[1])\n",
        "        qc.cx(qr[1], qr[0])\n",
        "\n",
        "        # Transpila el circuito para el backend\n",
        "        transpiled_circuit = transpile(qc, backend=qasm_sim)\n",
        "\n",
        "        # Compila el circuito transpileado en un formato ejecutable\n",
        "        qobj = assemble(transpiled_circuit, shots=1024)\n",
        "\n",
        "        # Ejecuta el circuito\n",
        "        resultado = qasm_sim.run(qobj).result()\n",
        "        counts = resultado.get_counts()\n",
        "\n",
        "        # Encuentra el resultado más frecuente\n",
        "        resultados = [[], []]\n",
        "        for key, value in counts.items():\n",
        "            resultados[0].append(key)\n",
        "            resultados[1].append(int(value))\n",
        "        s = resultados[0][np.argmax(np.array(resultados[1]))]\n",
        "\n",
        "        # Condición dummy para salir del bucle (añadir lógica real)\n",
        "        if len(counts) > 0:\n",
        "            break\n",
        "\n",
        "    return r  # Retorna el período encontrado\n"
      ]
    },
    {
      "cell_type": "code",
      "execution_count": null,
      "metadata": {
        "id": "trrhIRBJD9gv"
      },
      "outputs": [],
      "source": [
        "def rompe_shor(N):\n",
        "    N = int(N)  # Convierte N a un entero\n",
        "    while True:\n",
        "        a = randint(0, N - 1)  # Genera un número aleatorio a en el rango [0, N-1]\n",
        "        g = gcd(a, N)  # Calcula el máximo común divisor de a y N\n",
        "        if g != 1 or N == 1:\n",
        "            return g, N // g  # Si g no es 1 o N es 1, retorna g y N dividido por g (factor trivial)\n",
        "        else:\n",
        "            r = periodo(a, N)  # Calcula el periodo r de la función a^x mod N\n",
        "            if r % 2 != 0:\n",
        "                continue  # Si r es impar, continúa con la siguiente iteración del bucle\n",
        "            elif pow(a, r // 2, N) == -1:\n",
        "                continue  # Si a^(r/2) mod N es -1, continúa con la siguiente iteración del bucle\n",
        "            else:\n",
        "                p = gcd(pow(a, r // 2) + 1, N)  # Calcula el máximo común divisor de (a^(r/2) + 1) y N\n",
        "                q = gcd(pow(a, r // 2) - 1, N)  # Calcula el máximo común divisor de (a^(r/2) - 1) y N\n",
        "                if p == N or q == N:\n",
        "                    continue  # Si p o q son iguales a N, continúa con la siguiente iteración del bucle\n",
        "                return p, q  # Retorna los factores no triviales p y q de N\n"
      ]
    },
    {
      "cell_type": "code",
      "execution_count": null,
      "metadata": {
        "id": "HxMyzs7bEAtC"
      },
      "outputs": [],
      "source": [
        "def inverso_modular(a,m):\n",
        "    a = a % m;\n",
        "    for x in range(1, m) :\n",
        "        if ((a * x) % m == 1) :\n",
        "            return x\n",
        "    return 1\n"
      ]
    },
    {
      "cell_type": "code",
      "execution_count": null,
      "metadata": {
        "colab": {
          "base_uri": "https://localhost:8080/"
        },
        "id": "P5FCElGKEC5a",
        "outputId": "1b7bc130-af8d-4b05-bf00-41833569707f"
      },
      "outputs": [
        {
          "name": "stderr",
          "output_type": "stream",
          "text": [
            "<ipython-input-67-3168c754cbdf>:60: DeprecationWarning: Using a qobj for run() is deprecated as of qiskit-aer 0.14 and will be removed no sooner than 3 months from that release date. Transpiled circuits should now be passed directly using `backend.run(circuits, **run_options).\n",
            "  result = qasm_sim.run(qobj).result()\n"
          ]
        }
      ],
      "source": [
        "# Obtiene el valor de N a partir de la clave pública\n",
        "N_shor = public[1]\n",
        "\n",
        "# Verifica que N_shor sea positivo\n",
        "assert N_shor > 0, \"La entrada debe ser un número positivo\"\n",
        "\n",
        "# Llama a la función shors_breaker para encontrar los factores p y q de N_shor\n",
        "p, q = shors_breaker(N_shor)\n",
        "\n",
        "# Calcula la función totiente de Euler para el producto de p y q\n",
        "phi = (p - 1) * (q - 1)\n",
        "\n",
        "# Calcula el inverso modular de la clave pública e con respecto a phi\n",
        "d_shor = inverso_modular(public[0], phi)\n"
      ]
    },
    {
      "cell_type": "markdown",
      "metadata": {
        "id": "h8Sh_yjuH6aH"
      },
      "source": [
        "#Descifrando RSA usando el algoritmo de Shor"
      ]
    },
    {
      "cell_type": "code",
      "execution_count": null,
      "metadata": {
        "colab": {
          "base_uri": "https://localhost:8080/"
        },
        "id": "GdjnVCYRHzlt",
        "outputId": "68d96430-abff-4aa2-9c01-9ea680b24b29"
      },
      "outputs": [
        {
          "name": "stdout",
          "output_type": "stream",
          "text": [
            "\n",
            "Message Cracked using Shors Algorithm: hola\n",
            "\n"
          ]
        }
      ],
      "source": [
        "mensaje_descifrado = decrypt(encryption_obj, (d_shor, N_shor))\n",
        "\n",
        "print('\\nMensaje descifrado usando el algoritmo de Shor: ' + mensaje_descifrado + \"\\n\")\n"
      ]
    },
    {
      "cell_type": "markdown",
      "metadata": {
        "id": "bRuQIrVPZFUF"
      },
      "source": [
        "# Test - con 29 bits"
      ]
    },
    {
      "cell_type": "code",
      "execution_count": null,
      "metadata": {
        "colab": {
          "base_uri": "https://localhost:8080/"
        },
        "id": "wHaYgFMeIGc4",
        "outputId": "eeffc1d3-66d4-49dd-e6e4-f050f341c30f"
      },
      "outputs": [
        {
          "name": "stdout",
          "output_type": "stream",
          "text": [
            "Collecting qiskit\n",
            "  Downloading qiskit-1.1.1-cp38-abi3-manylinux_2_17_x86_64.manylinux2014_x86_64.whl.metadata (12 kB)\n",
            "Collecting rustworkx>=0.14.0 (from qiskit)\n",
            "  Downloading rustworkx-0.15.1-cp38-abi3-manylinux_2_17_x86_64.manylinux2014_x86_64.whl.metadata (9.9 kB)\n",
            "Requirement already satisfied: numpy<3,>=1.17 in /usr/local/lib/python3.10/dist-packages (from qiskit) (1.26.4)\n",
            "Requirement already satisfied: scipy>=1.5 in /usr/local/lib/python3.10/dist-packages (from qiskit) (1.13.1)\n",
            "Requirement already satisfied: sympy>=1.3 in /usr/local/lib/python3.10/dist-packages (from qiskit) (1.13.1)\n",
            "Collecting dill>=0.3 (from qiskit)\n",
            "  Downloading dill-0.3.8-py3-none-any.whl.metadata (10 kB)\n",
            "Requirement already satisfied: python-dateutil>=2.8.0 in /usr/local/lib/python3.10/dist-packages (from qiskit) (2.8.2)\n",
            "Collecting stevedore>=3.0.0 (from qiskit)\n",
            "  Downloading stevedore-5.2.0-py3-none-any.whl.metadata (2.3 kB)\n",
            "Requirement already satisfied: typing-extensions in /usr/local/lib/python3.10/dist-packages (from qiskit) (4.12.2)\n",
            "Collecting symengine>=0.11 (from qiskit)\n",
            "  Downloading symengine-0.11.0-cp310-cp310-manylinux_2_12_x86_64.manylinux2010_x86_64.whl.metadata (1.2 kB)\n",
            "Requirement already satisfied: six>=1.5 in /usr/local/lib/python3.10/dist-packages (from python-dateutil>=2.8.0->qiskit) (1.16.0)\n",
            "Collecting pbr!=2.1.0,>=2.0.0 (from stevedore>=3.0.0->qiskit)\n",
            "  Downloading pbr-6.0.0-py2.py3-none-any.whl.metadata (1.3 kB)\n",
            "Requirement already satisfied: mpmath<1.4,>=1.1.0 in /usr/local/lib/python3.10/dist-packages (from sympy>=1.3->qiskit) (1.3.0)\n",
            "Downloading qiskit-1.1.1-cp38-abi3-manylinux_2_17_x86_64.manylinux2014_x86_64.whl (4.3 MB)\n",
            "\u001b[2K   \u001b[90m━━━━━━━━━━━━━━━━━━━━━━━━━━━━━━━━━━━━━━━━\u001b[0m \u001b[32m4.3/4.3 MB\u001b[0m \u001b[31m21.6 MB/s\u001b[0m eta \u001b[36m0:00:00\u001b[0m\n",
            "\u001b[?25hDownloading dill-0.3.8-py3-none-any.whl (116 kB)\n",
            "\u001b[2K   \u001b[90m━━━━━━━━━━━━━━━━━━━━━━━━━━━━━━━━━━━━━━━━\u001b[0m \u001b[32m116.3/116.3 kB\u001b[0m \u001b[31m4.5 MB/s\u001b[0m eta \u001b[36m0:00:00\u001b[0m\n",
            "\u001b[?25hDownloading rustworkx-0.15.1-cp38-abi3-manylinux_2_17_x86_64.manylinux2014_x86_64.whl (2.0 MB)\n",
            "\u001b[2K   \u001b[90m━━━━━━━━━━━━━━━━━━━━━━━━━━━━━━━━━━━━━━━━\u001b[0m \u001b[32m2.0/2.0 MB\u001b[0m \u001b[31m25.8 MB/s\u001b[0m eta \u001b[36m0:00:00\u001b[0m\n",
            "\u001b[?25hDownloading stevedore-5.2.0-py3-none-any.whl (49 kB)\n",
            "\u001b[2K   \u001b[90m━━━━━━━━━━━━━━━━━━━━━━━━━━━━━━━━━━━━━━━━\u001b[0m \u001b[32m49.7/49.7 kB\u001b[0m \u001b[31m2.5 MB/s\u001b[0m eta \u001b[36m0:00:00\u001b[0m\n",
            "\u001b[?25hDownloading symengine-0.11.0-cp310-cp310-manylinux_2_12_x86_64.manylinux2010_x86_64.whl (39.4 MB)\n",
            "\u001b[2K   \u001b[90m━━━━━━━━━━━━━━━━━━━━━━━━━━━━━━━━━━━━━━━━\u001b[0m \u001b[32m39.4/39.4 MB\u001b[0m \u001b[31m10.7 MB/s\u001b[0m eta \u001b[36m0:00:00\u001b[0m\n",
            "\u001b[?25hDownloading pbr-6.0.0-py2.py3-none-any.whl (107 kB)\n",
            "\u001b[2K   \u001b[90m━━━━━━━━━━━━━━━━━━━━━━━━━━━━━━━━━━━━━━━━\u001b[0m \u001b[32m107.5/107.5 kB\u001b[0m \u001b[31m2.6 MB/s\u001b[0m eta \u001b[36m0:00:00\u001b[0m\n",
            "\u001b[?25hInstalling collected packages: symengine, rustworkx, pbr, dill, stevedore, qiskit\n",
            "Successfully installed dill-0.3.8 pbr-6.0.0 qiskit-1.1.1 rustworkx-0.15.1 stevedore-5.2.0 symengine-0.11.0\n"
          ]
        }
      ],
      "source": [
        "!pip install qiskit"
      ]
    },
    {
      "cell_type": "code",
      "execution_count": null,
      "metadata": {
        "colab": {
          "base_uri": "https://localhost:8080/"
        },
        "id": "7-D-Z8N7Hq2B",
        "outputId": "87c95d66-1023-440e-e347-098cff03312e"
      },
      "outputs": [
        {
          "name": "stdout",
          "output_type": "stream",
          "text": [
            "Collecting qiskit-aer\n",
            "  Downloading qiskit_aer-0.14.2-cp310-cp310-manylinux_2_17_x86_64.manylinux2014_x86_64.whl.metadata (8.1 kB)\n",
            "Requirement already satisfied: qiskit>=0.45.2 in /usr/local/lib/python3.10/dist-packages (from qiskit-aer) (1.1.1)\n",
            "Requirement already satisfied: numpy>=1.16.3 in /usr/local/lib/python3.10/dist-packages (from qiskit-aer) (1.26.4)\n",
            "Requirement already satisfied: scipy>=1.0 in /usr/local/lib/python3.10/dist-packages (from qiskit-aer) (1.13.1)\n",
            "Requirement already satisfied: psutil>=5 in /usr/local/lib/python3.10/dist-packages (from qiskit-aer) (5.9.5)\n",
            "Requirement already satisfied: rustworkx>=0.14.0 in /usr/local/lib/python3.10/dist-packages (from qiskit>=0.45.2->qiskit-aer) (0.15.1)\n",
            "Requirement already satisfied: sympy>=1.3 in /usr/local/lib/python3.10/dist-packages (from qiskit>=0.45.2->qiskit-aer) (1.13.1)\n",
            "Requirement already satisfied: dill>=0.3 in /usr/local/lib/python3.10/dist-packages (from qiskit>=0.45.2->qiskit-aer) (0.3.8)\n",
            "Requirement already satisfied: python-dateutil>=2.8.0 in /usr/local/lib/python3.10/dist-packages (from qiskit>=0.45.2->qiskit-aer) (2.8.2)\n",
            "Requirement already satisfied: stevedore>=3.0.0 in /usr/local/lib/python3.10/dist-packages (from qiskit>=0.45.2->qiskit-aer) (5.2.0)\n",
            "Requirement already satisfied: typing-extensions in /usr/local/lib/python3.10/dist-packages (from qiskit>=0.45.2->qiskit-aer) (4.12.2)\n",
            "Requirement already satisfied: symengine>=0.11 in /usr/local/lib/python3.10/dist-packages (from qiskit>=0.45.2->qiskit-aer) (0.11.0)\n",
            "Requirement already satisfied: six>=1.5 in /usr/local/lib/python3.10/dist-packages (from python-dateutil>=2.8.0->qiskit>=0.45.2->qiskit-aer) (1.16.0)\n",
            "Requirement already satisfied: pbr!=2.1.0,>=2.0.0 in /usr/local/lib/python3.10/dist-packages (from stevedore>=3.0.0->qiskit>=0.45.2->qiskit-aer) (6.0.0)\n",
            "Requirement already satisfied: mpmath<1.4,>=1.1.0 in /usr/local/lib/python3.10/dist-packages (from sympy>=1.3->qiskit>=0.45.2->qiskit-aer) (1.3.0)\n",
            "Downloading qiskit_aer-0.14.2-cp310-cp310-manylinux_2_17_x86_64.manylinux2014_x86_64.whl (12.4 MB)\n",
            "\u001b[2K   \u001b[90m━━━━━━━━━━━━━━━━━━━━━━━━━━━━━━━━━━━━━━━━\u001b[0m \u001b[32m12.4/12.4 MB\u001b[0m \u001b[31m28.7 MB/s\u001b[0m eta \u001b[36m0:00:00\u001b[0m\n",
            "\u001b[?25hInstalling collected packages: qiskit-aer\n",
            "Successfully installed qiskit-aer-0.14.2\n"
          ]
        }
      ],
      "source": [
        "#!pip install qiskit #==0.14.1 #qiskit-aer==0.3.2 numpy==1.16.2\n",
        "!pip install qiskit-aer"
      ]
    },
    {
      "cell_type": "code",
      "execution_count": null,
      "metadata": {
        "colab": {
          "base_uri": "https://localhost:8080/"
        },
        "id": "g7ZK1l78IWBf",
        "outputId": "756b73ee-bf4f-4b8c-ad61-2c1da0de9c13"
      },
      "outputs": [
        {
          "name": "stdout",
          "output_type": "stream",
          "text": [
            "Collecting pycryptodome\n",
            "  Downloading pycryptodome-3.20.0-cp35-abi3-manylinux_2_17_x86_64.manylinux2014_x86_64.whl.metadata (3.4 kB)\n",
            "Downloading pycryptodome-3.20.0-cp35-abi3-manylinux_2_17_x86_64.manylinux2014_x86_64.whl (2.1 MB)\n",
            "\u001b[2K   \u001b[90m━━━━━━━━━━━━━━━━━━━━━━━━━━━━━━━━━━━━━━━━\u001b[0m \u001b[32m2.1/2.1 MB\u001b[0m \u001b[31m12.9 MB/s\u001b[0m eta \u001b[36m0:00:00\u001b[0m\n",
            "\u001b[?25hInstalling collected packages: pycryptodome\n",
            "Successfully installed pycryptodome-3.20.0\n"
          ]
        }
      ],
      "source": [
        "!pip install pycryptodome"
      ]
    },
    {
      "cell_type": "code",
      "execution_count": null,
      "metadata": {
        "id": "BVRapux4arb_"
      },
      "outputs": [],
      "source": [
        "from __future__ import unicode_literals\n",
        "from math import sqrt\n",
        "import random\n",
        "from random import randint as rand\n",
        "\n",
        "# Función para calcular el máximo común divisor\n",
        "def gcd(a, b):\n",
        "    if b == 0:\n",
        "        return a\n",
        "    else:\n",
        "        return gcd(b, a % b)\n",
        "\n",
        "# Función para calcular el inverso modular\n",
        "def inverso_modular(a, m):\n",
        "    for x in range(1, m):\n",
        "        if (a * x) % m == 1:\n",
        "            return x\n",
        "    return -1\n",
        "\n",
        "# Función para verificar si un número es primo\n",
        "def es_primo(n):\n",
        "    if n < 2:\n",
        "        return False\n",
        "    elif n == 2:\n",
        "        return True\n",
        "    else:\n",
        "        for i in range(2, int(sqrt(n)) + 1):\n",
        "            if n % i == 0:\n",
        "                return False\n",
        "    return True\n",
        "\n",
        "# Función para generar un par de claves (pública y privada)\n",
        "def generar_par_claves(tamaño_clave):\n",
        "    p = rand(1, 1000)\n",
        "    q = rand(1, 1000)\n",
        "    nMin = 1 << (tamaño_clave - 1)\n",
        "    nMax = (1 << tamaño_clave) - 1\n",
        "    primos = [2]\n",
        "    inicio = 1 << (tamaño_clave // 2 - 1)\n",
        "    fin = 1 << (tamaño_clave // 2 + 1)\n",
        "    if inicio >= fin:\n",
        "        return []\n",
        "    for i in range(3, fin + 1, 2):\n",
        "        for p in primos:\n",
        "            if i % p == 0:\n",
        "                break\n",
        "        else:\n",
        "            primos.append(i)\n",
        "    while (primos and primos[0] < inicio):\n",
        "        del primos[0]\n",
        "    while primos:\n",
        "        p = random.choice(primos)\n",
        "        primos.remove(p)\n",
        "        valores_q = [q for q in primos if nMin <= p * q <= nMax]\n",
        "        if valores_q:\n",
        "            q = random.choice(valores_q)\n",
        "            break\n",
        "    print(p, q)\n",
        "    n = p * q\n",
        "    phi = (p - 1) * (q - 1)\n",
        "    e = random.randrange(1, phi)\n",
        "    g = gcd(e, phi)\n",
        "    while True:\n",
        "        e = random.randrange(1, phi)\n",
        "        g = gcd(e, phi)\n",
        "        d = inverso_modular(e, phi)\n",
        "        if g == 1 and e != d:\n",
        "            break\n",
        "\n",
        "    return ((e, n), (d, n))\n",
        "\n",
        "# Función para encriptar un mensaje\n",
        "def encriptar(msg_texto_plano, paquete):\n",
        "    e, n = paquete\n",
        "    msg_texto_cifrado = [pow(ord(c), e, n) for c in msg_texto_plano]\n",
        "    return ''.join(map(lambda x: str(x), msg_texto_cifrado)), msg_texto_cifrado\n",
        "\n",
        "# Función para desencriptar un mensaje\n",
        "def desencriptar(msg_texto_cifrado, paquete):\n",
        "    d, n = paquete\n",
        "    msg_texto_plano = [chr(pow(c, d, n)) for c in msg_texto_cifrado]\n",
        "    return ''.join(msg_texto_plano)\n"
      ]
    },
    {
      "cell_type": "code",
      "execution_count": null,
      "metadata": {
        "id": "h-Knb5euarcA"
      },
      "outputs": [],
      "source": [
        "# Comentado para la entrada del usuario y uso del valor fijo para el tamaño de la clave\n",
        "# bit_length = int(input(\"Enter bit_length: \"))\n",
        "\n",
        "# Genera un par de claves públicas y privadas con un tamaño de clave de 29 bits\n",
        "public, private = generar_par_claves(29)\n"
      ]
    },
    {
      "cell_type": "markdown",
      "metadata": {
        "id": "-BYtWsJ1ZVkW"
      },
      "source": [
        "###RSA Encriptacion"
      ]
    },
    {
      "cell_type": "code",
      "source": [
        "#msg = input(\"\\nWrite message: \")\n",
        "msg = \"Hola mundo\"\n",
        "\n",
        "# Encriptar el mensaje usando la clave pública\n",
        "encrypted_msg, encryption_obj = encriptar(msg, public)\n",
        "\n",
        "# Imprimir el mensaje cifrado\n",
        "print(\"\\nMensaje cifrado: \" + encrypted_msg)\n",
        "\n",
        "# Imprimir el objeto de cifrado (lista de valores cifrados)\n",
        "print(\"\\nObjeto de cifrado: \" + str(encryption_obj))\n",
        "print(encryption_obj)\n"
      ],
      "metadata": {
        "colab": {
          "base_uri": "https://localhost:8080/"
        },
        "outputId": "7ebefacd-4a18-40a9-dc9a-ef98e97f2d9b",
        "id": "Pu5xo32DHvbr"
      },
      "execution_count": null,
      "outputs": [
        {
          "output_type": "stream",
          "name": "stdout",
          "text": [
            "\n",
            "Mensaje cifrado: 345890380319760064126640379305559700214494704189563492257053956235126621109022694319760064\n",
            "\n",
            "Objeto de cifrado: [345890380, 319760064, 126640379, 305559700, 214494704, 189563492, 257053956, 235126621, 109022694, 319760064]\n",
            "[345890380, 319760064, 126640379, 305559700, 214494704, 189563492, 257053956, 235126621, 109022694, 319760064]\n"
          ]
        }
      ]
    },
    {
      "cell_type": "markdown",
      "metadata": {
        "id": "umpUUZqoZVkY"
      },
      "source": [
        "###RSA Desencriptar"
      ]
    },
    {
      "cell_type": "code",
      "source": [
        "# Desencriptar el mensaje usando la clave privada\n",
        "mensaje_descifrado = desencriptar(encryption_obj, private)\n",
        "\n",
        "# Imprimir el mensaje descifrado usando el algoritmo RSA\n",
        "print(\"\\nMensaje descifrado usando el algoritmo RSA: \" + mensaje_descifrado)"
      ],
      "metadata": {
        "colab": {
          "base_uri": "https://localhost:8080/"
        },
        "outputId": "bf3badba-b350-4b6c-a9da-a65ae996bfea",
        "id": "IUg1IIDlIVxy"
      },
      "execution_count": null,
      "outputs": [
        {
          "output_type": "stream",
          "name": "stdout",
          "text": [
            "\n",
            "Mensaje descifrado usando el algoritmo RSA: Hola mundo\n"
          ]
        }
      ]
    },
    {
      "cell_type": "markdown",
      "metadata": {
        "id": "1hYtdUeQS9wf"
      },
      "source": [
        "### Algoritmo de Short"
      ]
    },
    {
      "cell_type": "code",
      "source": [
        "from qiskit import QuantumCircuit, QuantumRegister, ClassicalRegister, transpile, assemble\n",
        "from qiskit_aer import Aer\n",
        "import numpy as np\n",
        "from random import randint\n",
        "\n",
        "# Obtén el backend del simulador de QASM\n",
        "qasm_sim = Aer.get_backend('qasm_simulator')\n",
        "\n",
        "def period(a, N):\n",
        "    available_qubits = 29\n",
        "    r = -1\n",
        "\n",
        "    if N >= 2**available_qubits:\n",
        "        print(f\"{N} is too big for IBMQX\")\n",
        "        return r\n",
        "\n",
        "    qr = QuantumRegister(available_qubits)\n",
        "    cr = ClassicalRegister(available_qubits)\n",
        "    qc = QuantumCircuit(qr, cr)\n",
        "\n",
        "    x0 = randint(1, N - 1)\n",
        "    x_binary = np.zeros(available_qubits, dtype=bool)\n",
        "\n",
        "    for i in range(1, available_qubits + 1):\n",
        "        bit_state = (N % (2**i) != 0)\n",
        "        if bit_state:\n",
        "            N -= 2**(i - 1)\n",
        "        x_binary[available_qubits - i] = bit_state\n",
        "\n",
        "    for i in range(available_qubits):\n",
        "        if x_binary[available_qubits - i - 1]:\n",
        "            qc.x(qr[i])\n",
        "\n",
        "    x = x0\n",
        "    while x != x0 or r <= 0:\n",
        "        r += 1\n",
        "\n",
        "        qc.measure(qr, cr)\n",
        "\n",
        "        # Define las puertas cuánticas\n",
        "        for i in range(0, 3):\n",
        "            qc.x(qr[i])\n",
        "        qc.cx(qr[2], qr[1])\n",
        "        qc.cx(qr[1], qr[2])\n",
        "        qc.cx(qr[2], qr[1])\n",
        "        qc.cx(qr[1], qr[0])\n",
        "        qc.cx(qr[0], qr[1])\n",
        "        qc.cx(qr[1], qr[0])\n",
        "        qc.cx(qr[3], qr[0])\n",
        "        qc.cx(qr[0], qr[1])\n",
        "        qc.cx(qr[1], qr[0])\n",
        "\n",
        "        # Transpila el circuito para el backend\n",
        "        transpiled_circuit = transpile(qc, backend=qasm_sim)\n",
        "\n",
        "        # Compila el circuito transpileado en un formato ejecutable\n",
        "        qobj = assemble(transpiled_circuit, shots=1024)\n",
        "\n",
        "        # Ejecuta el circuito\n",
        "        result = qasm_sim.run(qobj).result()\n",
        "        counts = result.get_counts()\n",
        "\n",
        "        # Encuentra el resultado más frecuente\n",
        "        results = [[], []]\n",
        "        for key, value in counts.items():\n",
        "            results[0].append(key)\n",
        "            results[1].append(int(value))\n",
        "        s = results[0][np.argmax(np.array(results[1]))]\n",
        "\n",
        "        # Condición dummy para salir del bucle (añadir lógica real)\n",
        "        if len(counts) > 0:\n",
        "            break\n",
        "\n",
        "    return r\n",
        "\n",
        "def shors_breaker(N):\n",
        "    N = int(N)\n",
        "    while True:\n",
        "        a=randint(0,N-1)\n",
        "        g=gcd(a,N)\n",
        "        if g!=1 or N==1:\n",
        "            return g,N//g\n",
        "        else:\n",
        "            r=period(a,N)\n",
        "            if r % 2 != 0:\n",
        "                continue\n",
        "            elif pow(a,r//2,N)==-1:\n",
        "                continue\n",
        "            else:\n",
        "                p=gcd(pow(a,r//2)+1,N)\n",
        "                q=gcd(pow(a,r//2)-1,N)\n",
        "                if p==N or q==N:\n",
        "                    continue\n",
        "                return p,q\n",
        "\n",
        "def modular_inverse(a,m):\n",
        "    a = a % m;\n",
        "    for x in range(1, m) :\n",
        "        if ((a * x) % m == 1) :\n",
        "            return x\n",
        "    return 1\n",
        "\n",
        "N_shor = public[1]\n",
        "assert N_shor>0,\"Input must be positive\"\n",
        "p,q = shors_breaker(N_shor)\n",
        "phi = (p-1) * (q-1)\n",
        "d_shor = modular_inverse(public[0], phi)\n",
        "\n",
        "decrypted_msg = decrypt(encryption_obj, (d_shor,N_shor))\n",
        "\n",
        "print('\\nMensaje descifrado usando el algoritmo de Shor: ' + decrypted_msg + \"\\n\")"
      ],
      "metadata": {
        "colab": {
          "base_uri": "https://localhost:8080/"
        },
        "outputId": "ff87fffe-f6e9-4381-e3cf-6346bb73fa1a",
        "id": "A6stRn-1Ifp3"
      },
      "execution_count": null,
      "outputs": [
        {
          "output_type": "stream",
          "name": "stderr",
          "text": [
            "<ipython-input-8-639f2f67ba4f>:60: DeprecationWarning: Using a qobj for run() is deprecated as of qiskit-aer 0.14 and will be removed no sooner than 3 months from that release date. Transpiled circuits should now be passed directly using `backend.run(circuits, **run_options).\n",
            "  result = qasm_sim.run(qobj).result()\n"
          ]
        },
        {
          "output_type": "stream",
          "name": "stdout",
          "text": [
            "\n",
            "Mensaje descifrado usando el algoritmo de Shor: Hola mundo\n",
            "\n"
          ]
        }
      ]
    }
  ],
  "metadata": {
    "colab": {
      "provenance": []
    },
    "kernelspec": {
      "display_name": "Python 3",
      "name": "python3"
    },
    "language_info": {
      "name": "python"
    }
  },
  "nbformat": 4,
  "nbformat_minor": 0
}